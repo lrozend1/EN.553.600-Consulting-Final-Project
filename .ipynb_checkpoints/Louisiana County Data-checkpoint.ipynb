{
 "cells": [
  {
   "cell_type": "code",
   "execution_count": 12,
   "id": "c7877de6-a421-47fd-9c42-49b0fc8497f3",
   "metadata": {},
   "outputs": [
    {
     "name": "stdout",
     "output_type": "stream",
     "text": [
      "Distance matrix exported successfully.\n"
     ]
    }
   ],
   "source": [
    "import pandas as pd\n",
    "import numpy as np\n",
    "from geopy.distance import geodesic\n",
    "import itertools\n",
    "\n",
    "# Load the CSV file\n",
    "df = pd.read_csv('Louisiana County All Data.csv')\n",
    "\n",
    "# Extract the latitudes and longitudes\n",
    "coordinates = df[['Latitude', 'Longitude']]\n",
    "\n",
    "# Function to calculate distances\n",
    "def calculate_distances(coords):\n",
    "    n = len(coords)\n",
    "    distance_matrix = np.zeros((n, n))\n",
    "    \n",
    "    for i in range(n):\n",
    "        for j in range(i + 1, n):\n",
    "            # Calculate geodesic distance and convert to miles\n",
    "            distance = geodesic((coords.iloc[i]['Latitude'], coords.iloc[i]['Longitude']),\n",
    "                                (coords.iloc[j]['Latitude'], coords.iloc[j]['Longitude'])).miles\n",
    "            distance_matrix[i][j] = distance\n",
    "            distance_matrix[j][i] = distance  # Symmetric matrix\n",
    "            \n",
    "    return distance_matrix\n",
    "\n",
    "# Compute the distance matrix\n",
    "distance_matrix = calculate_distances(coordinates)\n",
    "\n",
    "# Convert the numpy array to a DataFrame\n",
    "distance_df = pd.DataFrame(distance_matrix, index=df['Parish name'], columns=df['Parish name'])\n",
    "\n",
    "# Export the DataFrame to a CSV file\n",
    "distance_df.to_csv('Pairwise County Distances.csv')\n",
    "print(\"Distance matrix exported successfully.\")"
   ]
  },
  {
   "cell_type": "code",
   "execution_count": null,
   "id": "a36d5e65-6773-4c31-87ac-9ee63e99f2c0",
   "metadata": {},
   "outputs": [],
   "source": [
    "import pandas as pd\n",
    "import numpy as np\n",
    "\n",
    "# Load the data\n",
    "data = pd.read_csv('/mnt/data/County Adjacency.txt', sep='|')\n",
    "\n",
    "# Filter for Louisiana parishes (Louisiana uses 'Parish' instead of 'County')\n",
    "louisiana_data = data[data['County Name'].str.contains('Parish, LA')]\n",
    "\n",
    "# Extract unique parishes\n",
    "parishes = louisiana_data['County Name'].unique()\n",
    "parishes.sort()\n",
    "\n",
    "# Initialize the adjacency matrix\n",
    "n = len(parishes)\n",
    "adj_matrix = np.zeros((n, n), dtype=int)\n",
    "\n",
    "# Fill the adjacency matrix\n",
    "for i, parish in enumerate(parishes):\n",
    "    # Get neighbors of the current parish\n",
    "    neighbors = louisiana_data[louisiana_data['County Name'] == parish]['Neighbor Name'].values\n",
    "    \n",
    "    for neighbor in neighbors:\n",
    "        if neighbor in parishes:\n",
    "            j = np.where(parishes == neighbor)[0][0]\n",
    "            adj_matrix[i, j] = 1\n",
    "\n",
    "# Set diagonal to 0 (a parish is not a neighbor to itself)\n",
    "np.fill_diagonal(adj_matrix, 0)\n",
    "\n",
    "# Convert the adjacency matrix to a DataFrame for better readability\n",
    "adj_matrix_df = pd.DataFrame(adj_matrix, index=parishes, columns=parishes)\n",
    "\n",
    "# Display the matrix\n",
    "print(adj_matrix_df)"
   ]
  },
  {
   "cell_type": "code",
   "execution_count": null,
   "id": "8a988914-7a5c-43c8-a06f-d19901fd4569",
   "metadata": {},
   "outputs": [],
   "source": []
  }
 ],
 "metadata": {
  "kernelspec": {
   "display_name": "Python 3 (ipykernel)",
   "language": "python",
   "name": "python3"
  },
  "language_info": {
   "codemirror_mode": {
    "name": "ipython",
    "version": 3
   },
   "file_extension": ".py",
   "mimetype": "text/x-python",
   "name": "python",
   "nbconvert_exporter": "python",
   "pygments_lexer": "ipython3",
   "version": "3.10.9"
  }
 },
 "nbformat": 4,
 "nbformat_minor": 5
}
